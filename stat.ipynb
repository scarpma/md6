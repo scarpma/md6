{
 "cells": [
  {
   "cell_type": "markdown",
   "metadata": {},
   "source": [
    "# stat"
   ]
  },
  {
   "cell_type": "code",
   "execution_count": 5,
   "metadata": {},
   "outputs": [],
   "source": [
    "f = open('./data/stat.dat','r')\n",
    "tv = []\n",
    "px = []\n",
    "py = []\n",
    "pz = []\n",
    "ek = []\n",
    "ep = []\n",
    "et = []\n",
    "ii = 0\n",
    "for line in f:\n",
    "    line = line.split(' ')\n",
    "    if ii>0:\n",
    "        tv.append(float(line[0]))\n",
    "        px.append(float(line[1]))\n",
    "        py.append(float(line[2]))\n",
    "        pz.append(float(line[3]))\n",
    "        ek.append(float(line[4]))\n",
    "        ep.append(float(line[5]))\n",
    "        et.append(float(line[6]))\n",
    "    ii += 1\n",
    "\n",
    "import matplotlib.pyplot as plt\n",
    "\n",
    "fig, axs = plt.subplots(1,2,figsize=(10,5))\n",
    "axs[0].plot(tv,px,label='px')\n",
    "axs[0].plot(tv,py,label='py')\n",
    "axs[0].plot(tv,pz,label='pz')\n",
    "axs[1].plot(tv,ek,label='ek')\n",
    "axs[1].plot(tv,ep,label='ep')\n",
    "axs[1].plot(tv,et,label='et')\n",
    "\n",
    "axs[0].legend()\n",
    "axs[1].legend()\n",
    "axs[0].set_xlabel('t')\n",
    "axs[1].set_xlabel('t')\n",
    "#fig.savefig('./data/stat.pdf')"
   ]
  },
  {
   "cell_type": "markdown",
   "metadata": {},
   "source": [
    "# autodiffusion"
   ]
  },
  {
   "cell_type": "code",
   "execution_count": 16,
   "metadata": {},
   "outputs": [],
   "source": [
    "f = open('./data/autodiffusion.dat','r')\n",
    "tv = []\n",
    "vx = []\n",
    "vy = []\n",
    "vz = []\n",
    "ii = 0\n",
    "for line in f:\n",
    "    line = line.split(' ')\n",
    "    if ii>0:\n",
    "        tv.append(float(line[0]))\n",
    "        vx.append(float(line[1]))\n",
    "        vy.append(float(line[2]))\n",
    "        vz.append(float(line[3]))\n",
    "    ii += 1\n",
    "\n",
    "import matplotlib.pyplot as plt\n",
    "fig, ax = plt.subplots(1,1,figsize=(8,5))\n",
    "ax.plot(tv,vx,label='var x')\n",
    "ax.plot(tv,vy,label='var y')\n",
    "ax.plot(tv,vz,label='var z')\n",
    "ax.legend()\n",
    "ax.set_xlabel('t')\n",
    "fig.savefig('./data/autodiffusion.pdf')"
   ]
  },
  {
   "cell_type": "markdown",
   "metadata": {},
   "source": [
    "# corr_func"
   ]
  },
  {
   "cell_type": "code",
   "execution_count": 20,
   "metadata": {},
   "outputs": [
    {
     "data": {
      "image/png": "[encoded data removed]",
      "text/plain": [
       "<Figure size 576x360 with 1 Axes>"
      ]
     },
     "metadata": {},
     "output_type": "display_data"
    }
   ],
   "source": [
    "f = open('./data/corr_func.dat','r')\n",
    "xx = []\n",
    "cf = []\n",
    "ii = 0\n",
    "for line in f:\n",
    "    line = line.split(' ')\n",
    "    if ii>0:\n",
    "        xx.append(float(line[0]))\n",
    "        cf.append(float(line[1]))\n",
    "    ii += 1\n",
    "\n",
    "import matplotlib.pyplot as plt\n",
    "fig, ax = plt.subplots(1,1,figsize=(8,5))\n",
    "ax.plot(xx,cf,label='pair_correlation')\n",
    "ax.legend()\n",
    "ax.set_xlabel('r')\n",
    "fig.savefig('./data/corr_func.pdf')"
   ]
  },
  {
   "cell_type": "code",
   "execution_count": null,
   "metadata": {},
   "outputs": [],
   "source": []
  }
 ],
 "metadata": {
  "kernelspec": {
   "display_name": "Python 3",
   "language": "python",
   "name": "python3"
  },
  "language_info": {
   "codemirror_mode": {
    "name": "ipython",
    "version": 3
   },
   "file_extension": ".py",
   "mimetype": "text/x-python",
   "name": "python",
   "nbconvert_exporter": "python",
   "pygments_lexer": "ipython3",
   "version": "3.7.0"
  }
 },
 "nbformat": 4,
 "nbformat_minor": 4
}
